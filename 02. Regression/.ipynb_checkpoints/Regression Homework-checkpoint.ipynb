{
 "cells": [
  {
   "cell_type": "code",
   "execution_count": 1,
   "id": "fa1f4712",
   "metadata": {},
   "outputs": [],
   "source": [
    "#Loading libraries\n",
    "import pandas as pd\n",
    "import numpy as np\n",
    "import matplotlib.pyplot as plt\n",
    "import seaborn as sns\n",
    "\n",
    "import wget"
   ]
  },
  {
   "cell_type": "code",
   "execution_count": 2,
   "id": "4d4b73c7",
   "metadata": {},
   "outputs": [],
   "source": [
    "#downloading dataset\n",
    "#data = 'https://raw.githubusercontent.com/alexeygrigorev/datasets/master/housing.csv'\n",
    "#wget.download(data)"
   ]
  },
  {
   "cell_type": "markdown",
   "id": "90b36fa8",
   "metadata": {},
   "source": [
    "# Problem statement\n",
    "Creating a model that would predict the house prices \"Median_house_value\"\n",
    "\n",
    "# Exploratory Data Analysis"
   ]
  },
  {
   "cell_type": "code",
   "execution_count": 3,
   "id": "767d6055",
   "metadata": {},
   "outputs": [
    {
     "name": "stdout",
     "output_type": "stream",
     "text": [
      "<class 'pandas.core.frame.DataFrame'>\n",
      "RangeIndex: 20640 entries, 0 to 20639\n",
      "Data columns (total 10 columns):\n",
      " #   Column              Non-Null Count  Dtype  \n",
      "---  ------              --------------  -----  \n",
      " 0   longitude           20640 non-null  float64\n",
      " 1   latitude            20640 non-null  float64\n",
      " 2   housing_median_age  20640 non-null  float64\n",
      " 3   total_rooms         20640 non-null  float64\n",
      " 4   total_bedrooms      20433 non-null  float64\n",
      " 5   population          20640 non-null  float64\n",
      " 6   households          20640 non-null  float64\n",
      " 7   median_income       20640 non-null  float64\n",
      " 8   median_house_value  20640 non-null  float64\n",
      " 9   ocean_proximity     20640 non-null  object \n",
      "dtypes: float64(9), object(1)\n",
      "memory usage: 1.6+ MB\n"
     ]
    }
   ],
   "source": [
    "#viewing the dataframe\n",
    "df = pd.read_csv('housing.csv')\n",
    "df.info()"
   ]
  },
  {
   "cell_type": "code",
   "execution_count": 4,
   "id": "4af1749d",
   "metadata": {},
   "outputs": [
    {
     "data": {
      "text/plain": [
       "<seaborn.axisgrid.FacetGrid at 0x1b697c77dd0>"
      ]
     },
     "execution_count": 4,
     "metadata": {},
     "output_type": "execute_result"
    },
    {
     "data": {
      "image/png": "[encoded data removed]",
      "text/plain": [
       "<Figure size 500x500 with 1 Axes>"
      ]
     },
     "metadata": {},
     "output_type": "display_data"
    }
   ],
   "source": [
    "#visualiding the distribution of the median_house_value\n",
    "\n",
    "sns.displot(df['median_house_value'])"
   ]
  },
  {
   "cell_type": "markdown",
   "id": "1a80a277",
   "metadata": {},
   "source": [
    "The plot has some skewness in it, resulting in a longtail"
   ]
  },
  {
   "cell_type": "code",
   "execution_count": 5,
   "id": "fb36f2e4",
   "metadata": {},
   "outputs": [
    {
     "data": {
      "text/plain": [
       "array(['NEAR BAY', '<1H OCEAN', 'INLAND', 'NEAR OCEAN', 'ISLAND'],\n",
       "      dtype=object)"
      ]
     },
     "execution_count": 5,
     "metadata": {},
     "output_type": "execute_result"
    }
   ],
   "source": [
    "df['ocean_proximity'].unique()"
   ]
  },
  {
   "cell_type": "code",
   "execution_count": 6,
   "id": "716a2d27",
   "metadata": {},
   "outputs": [
    {
     "data": {
      "text/plain": [
       "array(['<1H OCEAN', 'INLAND'], dtype=object)"
      ]
     },
     "execution_count": 6,
     "metadata": {},
     "output_type": "execute_result"
    }
   ],
   "source": [
    "df_filtered = df[df['ocean_proximity'].isin(['INLAND', '<1H OCEAN'])].reset_index()\n",
    "df_filtered['ocean_proximity'].unique()"
   ]
  },
  {
   "cell_type": "code",
   "execution_count": 7,
   "id": "59e33904",
   "metadata": {},
   "outputs": [
    {
     "data": {
      "text/html": [
       "<div>\n",
       "<style scoped>\n",
       "    .dataframe tbody tr th:only-of-type {\n",
       "        vertical-align: middle;\n",
       "    }\n",
       "\n",
       "    .dataframe tbody tr th {\n",
       "        vertical-align: top;\n",
       "    }\n",
       "\n",
       "    .dataframe thead th {\n",
       "        text-align: right;\n",
       "    }\n",
       "</style>\n",
       "<table border=\"1\" class=\"dataframe\">\n",
       "  <thead>\n",
       "    <tr style=\"text-align: right;\">\n",
       "      <th></th>\n",
       "      <th>latitude</th>\n",
       "      <th>longitude</th>\n",
       "      <th>housing_median_age</th>\n",
       "      <th>total_rooms</th>\n",
       "      <th>total_bedrooms</th>\n",
       "      <th>population</th>\n",
       "      <th>households</th>\n",
       "      <th>median_income</th>\n",
       "    </tr>\n",
       "  </thead>\n",
       "  <tbody>\n",
       "    <tr>\n",
       "      <th>0</th>\n",
       "      <td>37.64</td>\n",
       "      <td>-121.97</td>\n",
       "      <td>32.0</td>\n",
       "      <td>1283.0</td>\n",
       "      <td>194.0</td>\n",
       "      <td>485.0</td>\n",
       "      <td>171.0</td>\n",
       "      <td>6.0574</td>\n",
       "    </tr>\n",
       "    <tr>\n",
       "      <th>1</th>\n",
       "      <td>37.61</td>\n",
       "      <td>-121.99</td>\n",
       "      <td>9.0</td>\n",
       "      <td>3666.0</td>\n",
       "      <td>711.0</td>\n",
       "      <td>2341.0</td>\n",
       "      <td>703.0</td>\n",
       "      <td>4.6458</td>\n",
       "    </tr>\n",
       "    <tr>\n",
       "      <th>2</th>\n",
       "      <td>37.57</td>\n",
       "      <td>-121.97</td>\n",
       "      <td>21.0</td>\n",
       "      <td>4342.0</td>\n",
       "      <td>783.0</td>\n",
       "      <td>2172.0</td>\n",
       "      <td>789.0</td>\n",
       "      <td>4.6146</td>\n",
       "    </tr>\n",
       "    <tr>\n",
       "      <th>3</th>\n",
       "      <td>37.58</td>\n",
       "      <td>-121.96</td>\n",
       "      <td>15.0</td>\n",
       "      <td>3575.0</td>\n",
       "      <td>597.0</td>\n",
       "      <td>1777.0</td>\n",
       "      <td>559.0</td>\n",
       "      <td>5.7192</td>\n",
       "    </tr>\n",
       "    <tr>\n",
       "      <th>4</th>\n",
       "      <td>37.58</td>\n",
       "      <td>-121.98</td>\n",
       "      <td>20.0</td>\n",
       "      <td>4126.0</td>\n",
       "      <td>1031.0</td>\n",
       "      <td>2079.0</td>\n",
       "      <td>975.0</td>\n",
       "      <td>3.6832</td>\n",
       "    </tr>\n",
       "    <tr>\n",
       "      <th>...</th>\n",
       "      <td>...</td>\n",
       "      <td>...</td>\n",
       "      <td>...</td>\n",
       "      <td>...</td>\n",
       "      <td>...</td>\n",
       "      <td>...</td>\n",
       "      <td>...</td>\n",
       "      <td>...</td>\n",
       "    </tr>\n",
       "    <tr>\n",
       "      <th>15682</th>\n",
       "      <td>39.48</td>\n",
       "      <td>-121.09</td>\n",
       "      <td>25.0</td>\n",
       "      <td>1665.0</td>\n",
       "      <td>374.0</td>\n",
       "      <td>845.0</td>\n",
       "      <td>330.0</td>\n",
       "      <td>1.5603</td>\n",
       "    </tr>\n",
       "    <tr>\n",
       "      <th>15683</th>\n",
       "      <td>39.49</td>\n",
       "      <td>-121.21</td>\n",
       "      <td>18.0</td>\n",
       "      <td>697.0</td>\n",
       "      <td>150.0</td>\n",
       "      <td>356.0</td>\n",
       "      <td>114.0</td>\n",
       "      <td>2.5568</td>\n",
       "    </tr>\n",
       "    <tr>\n",
       "      <th>15684</th>\n",
       "      <td>39.43</td>\n",
       "      <td>-121.22</td>\n",
       "      <td>17.0</td>\n",
       "      <td>2254.0</td>\n",
       "      <td>485.0</td>\n",
       "      <td>1007.0</td>\n",
       "      <td>433.0</td>\n",
       "      <td>1.7000</td>\n",
       "    </tr>\n",
       "    <tr>\n",
       "      <th>15685</th>\n",
       "      <td>39.43</td>\n",
       "      <td>-121.32</td>\n",
       "      <td>18.0</td>\n",
       "      <td>1860.0</td>\n",
       "      <td>409.0</td>\n",
       "      <td>741.0</td>\n",
       "      <td>349.0</td>\n",
       "      <td>1.8672</td>\n",
       "    </tr>\n",
       "    <tr>\n",
       "      <th>15686</th>\n",
       "      <td>39.37</td>\n",
       "      <td>-121.24</td>\n",
       "      <td>16.0</td>\n",
       "      <td>2785.0</td>\n",
       "      <td>616.0</td>\n",
       "      <td>1387.0</td>\n",
       "      <td>530.0</td>\n",
       "      <td>2.3886</td>\n",
       "    </tr>\n",
       "  </tbody>\n",
       "</table>\n",
       "<p>15687 rows × 8 columns</p>\n",
       "</div>"
      ],
      "text/plain": [
       "       latitude  longitude  housing_median_age  total_rooms  total_bedrooms  \\\n",
       "0         37.64    -121.97                32.0       1283.0           194.0   \n",
       "1         37.61    -121.99                 9.0       3666.0           711.0   \n",
       "2         37.57    -121.97                21.0       4342.0           783.0   \n",
       "3         37.58    -121.96                15.0       3575.0           597.0   \n",
       "4         37.58    -121.98                20.0       4126.0          1031.0   \n",
       "...         ...        ...                 ...          ...             ...   \n",
       "15682     39.48    -121.09                25.0       1665.0           374.0   \n",
       "15683     39.49    -121.21                18.0        697.0           150.0   \n",
       "15684     39.43    -121.22                17.0       2254.0           485.0   \n",
       "15685     39.43    -121.32                18.0       1860.0           409.0   \n",
       "15686     39.37    -121.24                16.0       2785.0           616.0   \n",
       "\n",
       "       population  households  median_income  \n",
       "0           485.0       171.0         6.0574  \n",
       "1          2341.0       703.0         4.6458  \n",
       "2          2172.0       789.0         4.6146  \n",
       "3          1777.0       559.0         5.7192  \n",
       "4          2079.0       975.0         3.6832  \n",
       "...           ...         ...            ...  \n",
       "15682       845.0       330.0         1.5603  \n",
       "15683       356.0       114.0         2.5568  \n",
       "15684      1007.0       433.0         1.7000  \n",
       "15685       741.0       349.0         1.8672  \n",
       "15686      1387.0       530.0         2.3886  \n",
       "\n",
       "[15687 rows x 8 columns]"
      ]
     },
     "execution_count": 7,
     "metadata": {},
     "output_type": "execute_result"
    }
   ],
   "source": [
    "base = ['latitude',\n",
    "'longitude',\n",
    "'housing_median_age',\n",
    "'total_rooms',\n",
    "'total_bedrooms',\n",
    "'population',\n",
    "'households',\n",
    "'median_income',]\n",
    "\n",
    "df_filtered[base]"
   ]
  },
  {
   "cell_type": "code",
   "execution_count": 8,
   "id": "0c9fc6d3",
   "metadata": {},
   "outputs": [
    {
     "data": {
      "text/plain": [
       "index                   0\n",
       "longitude               0\n",
       "latitude                0\n",
       "housing_median_age      0\n",
       "total_rooms             0\n",
       "total_bedrooms        157\n",
       "population              0\n",
       "households              0\n",
       "median_income           0\n",
       "median_house_value      0\n",
       "ocean_proximity         0\n",
       "dtype: int64"
      ]
     },
     "execution_count": 8,
     "metadata": {},
     "output_type": "execute_result"
    }
   ],
   "source": [
    "#chacking the sum of the missing value in each column\n",
    "df_filtered.isnull().sum()"
   ]
  },
  {
   "cell_type": "code",
   "execution_count": 9,
   "id": "419a24f6",
   "metadata": {},
   "outputs": [
    {
     "data": {
      "text/plain": [
       "1195.0"
      ]
     },
     "execution_count": 9,
     "metadata": {},
     "output_type": "execute_result"
    }
   ],
   "source": [
    "#Meadian of the population\n",
    "df_filtered['population'].median()"
   ]
  },
  {
   "cell_type": "code",
   "execution_count": null,
   "id": "b9bdd6d3",
   "metadata": {
    "scrolled": false
   },
   "outputs": [],
   "source": []
  },
  {
   "cell_type": "code",
   "execution_count": 10,
   "id": "913c5d86",
   "metadata": {},
   "outputs": [
    {
     "data": {
      "text/html": [
       "<div>\n",
       "<style scoped>\n",
       "    .dataframe tbody tr th:only-of-type {\n",
       "        vertical-align: middle;\n",
       "    }\n",
       "\n",
       "    .dataframe tbody tr th {\n",
       "        vertical-align: top;\n",
       "    }\n",
       "\n",
       "    .dataframe thead th {\n",
       "        text-align: right;\n",
       "    }\n",
       "</style>\n",
       "<table border=\"1\" class=\"dataframe\">\n",
       "  <thead>\n",
       "    <tr style=\"text-align: right;\">\n",
       "      <th></th>\n",
       "      <th>index</th>\n",
       "      <th>longitude</th>\n",
       "      <th>latitude</th>\n",
       "      <th>housing_median_age</th>\n",
       "      <th>total_rooms</th>\n",
       "      <th>total_bedrooms</th>\n",
       "      <th>population</th>\n",
       "      <th>households</th>\n",
       "      <th>median_income</th>\n",
       "      <th>median_house_value</th>\n",
       "      <th>ocean_proximity</th>\n",
       "    </tr>\n",
       "  </thead>\n",
       "  <tbody>\n",
       "    <tr>\n",
       "      <th>0</th>\n",
       "      <td>701</td>\n",
       "      <td>-121.97</td>\n",
       "      <td>37.64</td>\n",
       "      <td>32.0</td>\n",
       "      <td>1283.0</td>\n",
       "      <td>194.0</td>\n",
       "      <td>485.0</td>\n",
       "      <td>171.0</td>\n",
       "      <td>6.0574</td>\n",
       "      <td>431000.0</td>\n",
       "      <td>&lt;1H OCEAN</td>\n",
       "    </tr>\n",
       "    <tr>\n",
       "      <th>1</th>\n",
       "      <td>830</td>\n",
       "      <td>-121.99</td>\n",
       "      <td>37.61</td>\n",
       "      <td>9.0</td>\n",
       "      <td>3666.0</td>\n",
       "      <td>711.0</td>\n",
       "      <td>2341.0</td>\n",
       "      <td>703.0</td>\n",
       "      <td>4.6458</td>\n",
       "      <td>217000.0</td>\n",
       "      <td>&lt;1H OCEAN</td>\n",
       "    </tr>\n",
       "    <tr>\n",
       "      <th>2</th>\n",
       "      <td>859</td>\n",
       "      <td>-121.97</td>\n",
       "      <td>37.57</td>\n",
       "      <td>21.0</td>\n",
       "      <td>4342.0</td>\n",
       "      <td>783.0</td>\n",
       "      <td>2172.0</td>\n",
       "      <td>789.0</td>\n",
       "      <td>4.6146</td>\n",
       "      <td>247600.0</td>\n",
       "      <td>&lt;1H OCEAN</td>\n",
       "    </tr>\n",
       "    <tr>\n",
       "      <th>3</th>\n",
       "      <td>860</td>\n",
       "      <td>-121.96</td>\n",
       "      <td>37.58</td>\n",
       "      <td>15.0</td>\n",
       "      <td>3575.0</td>\n",
       "      <td>597.0</td>\n",
       "      <td>1777.0</td>\n",
       "      <td>559.0</td>\n",
       "      <td>5.7192</td>\n",
       "      <td>283500.0</td>\n",
       "      <td>&lt;1H OCEAN</td>\n",
       "    </tr>\n",
       "    <tr>\n",
       "      <th>4</th>\n",
       "      <td>861</td>\n",
       "      <td>-121.98</td>\n",
       "      <td>37.58</td>\n",
       "      <td>20.0</td>\n",
       "      <td>4126.0</td>\n",
       "      <td>1031.0</td>\n",
       "      <td>2079.0</td>\n",
       "      <td>975.0</td>\n",
       "      <td>3.6832</td>\n",
       "      <td>216900.0</td>\n",
       "      <td>&lt;1H OCEAN</td>\n",
       "    </tr>\n",
       "    <tr>\n",
       "      <th>...</th>\n",
       "      <td>...</td>\n",
       "      <td>...</td>\n",
       "      <td>...</td>\n",
       "      <td>...</td>\n",
       "      <td>...</td>\n",
       "      <td>...</td>\n",
       "      <td>...</td>\n",
       "      <td>...</td>\n",
       "      <td>...</td>\n",
       "      <td>...</td>\n",
       "      <td>...</td>\n",
       "    </tr>\n",
       "    <tr>\n",
       "      <th>15682</th>\n",
       "      <td>20635</td>\n",
       "      <td>-121.09</td>\n",
       "      <td>39.48</td>\n",
       "      <td>25.0</td>\n",
       "      <td>1665.0</td>\n",
       "      <td>374.0</td>\n",
       "      <td>845.0</td>\n",
       "      <td>330.0</td>\n",
       "      <td>1.5603</td>\n",
       "      <td>78100.0</td>\n",
       "      <td>INLAND</td>\n",
       "    </tr>\n",
       "    <tr>\n",
       "      <th>15683</th>\n",
       "      <td>20636</td>\n",
       "      <td>-121.21</td>\n",
       "      <td>39.49</td>\n",
       "      <td>18.0</td>\n",
       "      <td>697.0</td>\n",
       "      <td>150.0</td>\n",
       "      <td>356.0</td>\n",
       "      <td>114.0</td>\n",
       "      <td>2.5568</td>\n",
       "      <td>77100.0</td>\n",
       "      <td>INLAND</td>\n",
       "    </tr>\n",
       "    <tr>\n",
       "      <th>15684</th>\n",
       "      <td>20637</td>\n",
       "      <td>-121.22</td>\n",
       "      <td>39.43</td>\n",
       "      <td>17.0</td>\n",
       "      <td>2254.0</td>\n",
       "      <td>485.0</td>\n",
       "      <td>1007.0</td>\n",
       "      <td>433.0</td>\n",
       "      <td>1.7000</td>\n",
       "      <td>92300.0</td>\n",
       "      <td>INLAND</td>\n",
       "    </tr>\n",
       "    <tr>\n",
       "      <th>15685</th>\n",
       "      <td>20638</td>\n",
       "      <td>-121.32</td>\n",
       "      <td>39.43</td>\n",
       "      <td>18.0</td>\n",
       "      <td>1860.0</td>\n",
       "      <td>409.0</td>\n",
       "      <td>741.0</td>\n",
       "      <td>349.0</td>\n",
       "      <td>1.8672</td>\n",
       "      <td>84700.0</td>\n",
       "      <td>INLAND</td>\n",
       "    </tr>\n",
       "    <tr>\n",
       "      <th>15686</th>\n",
       "      <td>20639</td>\n",
       "      <td>-121.24</td>\n",
       "      <td>39.37</td>\n",
       "      <td>16.0</td>\n",
       "      <td>2785.0</td>\n",
       "      <td>616.0</td>\n",
       "      <td>1387.0</td>\n",
       "      <td>530.0</td>\n",
       "      <td>2.3886</td>\n",
       "      <td>89400.0</td>\n",
       "      <td>INLAND</td>\n",
       "    </tr>\n",
       "  </tbody>\n",
       "</table>\n",
       "<p>15687 rows × 11 columns</p>\n",
       "</div>"
      ],
      "text/plain": [
       "       index  longitude  latitude  housing_median_age  total_rooms  \\\n",
       "0        701    -121.97     37.64                32.0       1283.0   \n",
       "1        830    -121.99     37.61                 9.0       3666.0   \n",
       "2        859    -121.97     37.57                21.0       4342.0   \n",
       "3        860    -121.96     37.58                15.0       3575.0   \n",
       "4        861    -121.98     37.58                20.0       4126.0   \n",
       "...      ...        ...       ...                 ...          ...   \n",
       "15682  20635    -121.09     39.48                25.0       1665.0   \n",
       "15683  20636    -121.21     39.49                18.0        697.0   \n",
       "15684  20637    -121.22     39.43                17.0       2254.0   \n",
       "15685  20638    -121.32     39.43                18.0       1860.0   \n",
       "15686  20639    -121.24     39.37                16.0       2785.0   \n",
       "\n",
       "       total_bedrooms  population  households  median_income  \\\n",
       "0               194.0       485.0       171.0         6.0574   \n",
       "1               711.0      2341.0       703.0         4.6458   \n",
       "2               783.0      2172.0       789.0         4.6146   \n",
       "3               597.0      1777.0       559.0         5.7192   \n",
       "4              1031.0      2079.0       975.0         3.6832   \n",
       "...               ...         ...         ...            ...   \n",
       "15682           374.0       845.0       330.0         1.5603   \n",
       "15683           150.0       356.0       114.0         2.5568   \n",
       "15684           485.0      1007.0       433.0         1.7000   \n",
       "15685           409.0       741.0       349.0         1.8672   \n",
       "15686           616.0      1387.0       530.0         2.3886   \n",
       "\n",
       "       median_house_value ocean_proximity  \n",
       "0                431000.0       <1H OCEAN  \n",
       "1                217000.0       <1H OCEAN  \n",
       "2                247600.0       <1H OCEAN  \n",
       "3                283500.0       <1H OCEAN  \n",
       "4                216900.0       <1H OCEAN  \n",
       "...                   ...             ...  \n",
       "15682             78100.0          INLAND  \n",
       "15683             77100.0          INLAND  \n",
       "15684             92300.0          INLAND  \n",
       "15685             84700.0          INLAND  \n",
       "15686             89400.0          INLAND  \n",
       "\n",
       "[15687 rows x 11 columns]"
      ]
     },
     "execution_count": 10,
     "metadata": {},
     "output_type": "execute_result"
    }
   ],
   "source": [
    "df_filtered"
   ]
  },
  {
   "cell_type": "markdown",
   "id": "d5abb1a5",
   "metadata": {},
   "source": [
    "## Shuffling the index\n"
   ]
  },
  {
   "cell_type": "code",
   "execution_count": 11,
   "id": "6ad8aebc",
   "metadata": {},
   "outputs": [],
   "source": [
    "n = len(df_filtered)"
   ]
  },
  {
   "cell_type": "code",
   "execution_count": 12,
   "id": "64074c20",
   "metadata": {},
   "outputs": [
    {
     "data": {
      "text/plain": [
       "array([    0,     1,     2, ..., 15684, 15685, 15686])"
      ]
     },
     "execution_count": 12,
     "metadata": {},
     "output_type": "execute_result"
    }
   ],
   "source": [
    "idx = np.arange(n)\n",
    "idx"
   ]
  },
  {
   "cell_type": "code",
   "execution_count": 13,
   "id": "e13a4650",
   "metadata": {},
   "outputs": [
    {
     "data": {
      "text/plain": [
       "array([15183,  4469,  9316, ...,  5390,   860,  7270])"
      ]
     },
     "execution_count": 13,
     "metadata": {},
     "output_type": "execute_result"
    }
   ],
   "source": [
    "#setting the seed to 42 for reproducibility\n",
    "np.random.seed(42)\n",
    "\n",
    "#shuffle the idx array\n",
    "np.random.shuffle(idx)\n",
    "idx"
   ]
  },
  {
   "cell_type": "markdown",
   "id": "bca1eb54",
   "metadata": {},
   "source": [
    "splitting the data to 60% train, 20% validation, and 20% test"
   ]
  },
  {
   "cell_type": "code",
   "execution_count": 14,
   "id": "b1af389c",
   "metadata": {},
   "outputs": [
    {
     "data": {
      "text/plain": [
       "(15687, 15687)"
      ]
     },
     "execution_count": 14,
     "metadata": {},
     "output_type": "execute_result"
    }
   ],
   "source": [
    "#we split the number before we apply them to the dataframe\n",
    "n_test = int(n *0.2)\n",
    "n_val = int(n*0.2)\n",
    "n_train = n - n_test - n_val\n",
    "\n",
    "n, n_test+n_val+n_train"
   ]
  },
  {
   "cell_type": "code",
   "execution_count": 15,
   "id": "e85ff2e6",
   "metadata": {},
   "outputs": [],
   "source": [
    "#splitting the dataframe\n",
    "df_train = df_filtered.iloc[idx[:n_train]]\n",
    "df_val = df_filtered.iloc[idx[n_train:n_train + n_val]]\n",
    "df_test = df_filtered.iloc[idx[n_train+n_val:]]"
   ]
  },
  {
   "cell_type": "code",
   "execution_count": 16,
   "id": "7b5093fa",
   "metadata": {},
   "outputs": [],
   "source": [
    "#trainsforming the target y, \"house_median_value\" to log + 1 function\n",
    "y_train = np.log1p(df_train['median_house_value']).values #getting the values in a vector form/ array\n",
    "y_test = np.log1p(df_test['median_house_value']).values\n",
    "y_val = np.log1p(df_val['median_house_value']).values"
   ]
  },
  {
   "cell_type": "code",
   "execution_count": 17,
   "id": "c4f6011e",
   "metadata": {},
   "outputs": [],
   "source": [
    "#deleting the y variables from the train, test, val datafram to avoid accidentaly using them\n",
    "del df_train['median_house_value']\n",
    "del df_test['median_house_value']\n",
    "del df_val['median_house_value']"
   ]
  },
  {
   "cell_type": "markdown",
   "id": "5e67fc3f",
   "metadata": {},
   "source": [
    "- We need to deal with missing values for the column from 'total_bedrooms'.\n",
    "- We have two options: fill it with 0 or with the mean of this variable.\n",
    "- Try both options. For each, train a linear regression model without regularization.\n",
    "- For computing the mean, we'll use the training only!\n",
    "- Use the validation dataset to evaluate the models and compare the RMSE of each option.\n",
    "- Round the RMSE scores to 2 decimal digits using round(score, 2)\n",
    "- Which option gives better RMSE"
   ]
  },
  {
   "cell_type": "code",
   "execution_count": 18,
   "id": "c68257cf",
   "metadata": {},
   "outputs": [],
   "source": [
    "#filling in the missing values using the mean in the train set\n",
    "df_train_mean = df_train.fillna(df_train['total_bedrooms'].mean())\n",
    "df_test_mean = df_test.fillna(df_test['total_bedrooms'].mean())\n",
    "df_val_mean = df_val.fillna(df_val['total_bedrooms'].mean())"
   ]
  },
  {
   "cell_type": "code",
   "execution_count": 19,
   "id": "78568bff",
   "metadata": {},
   "outputs": [
    {
     "data": {
      "text/plain": [
       "537.1349197917773"
      ]
     },
     "execution_count": 19,
     "metadata": {},
     "output_type": "execute_result"
    }
   ],
   "source": [
    "#filling in the missing values using the 0 value \n",
    "df_train_0 = df_train.fillna(0)\n",
    "df_test_0 = df_test.fillna(0)\n",
    "df_val_0 = df_val.fillna(0)\n",
    "\n",
    "df_train_0['total_bedrooms'].mean()"
   ]
  },
  {
   "cell_type": "code",
   "execution_count": 20,
   "id": "7acd71b7",
   "metadata": {},
   "outputs": [
    {
     "data": {
      "text/html": [
       "<div>\n",
       "<style scoped>\n",
       "    .dataframe tbody tr th:only-of-type {\n",
       "        vertical-align: middle;\n",
       "    }\n",
       "\n",
       "    .dataframe tbody tr th {\n",
       "        vertical-align: top;\n",
       "    }\n",
       "\n",
       "    .dataframe thead th {\n",
       "        text-align: right;\n",
       "    }\n",
       "</style>\n",
       "<table border=\"1\" class=\"dataframe\">\n",
       "  <thead>\n",
       "    <tr style=\"text-align: right;\">\n",
       "      <th></th>\n",
       "      <th>index</th>\n",
       "      <th>longitude</th>\n",
       "      <th>latitude</th>\n",
       "      <th>housing_median_age</th>\n",
       "      <th>total_rooms</th>\n",
       "      <th>total_bedrooms</th>\n",
       "      <th>population</th>\n",
       "      <th>households</th>\n",
       "      <th>median_income</th>\n",
       "      <th>ocean_proximity</th>\n",
       "    </tr>\n",
       "  </thead>\n",
       "  <tbody>\n",
       "    <tr>\n",
       "      <th>0</th>\n",
       "      <td>19963</td>\n",
       "      <td>-119.14</td>\n",
       "      <td>36.23</td>\n",
       "      <td>22.0</td>\n",
       "      <td>2935.0</td>\n",
       "      <td>523.0</td>\n",
       "      <td>1927.0</td>\n",
       "      <td>530.0</td>\n",
       "      <td>2.5875</td>\n",
       "      <td>INLAND</td>\n",
       "    </tr>\n",
       "    <tr>\n",
       "      <th>1</th>\n",
       "      <td>5929</td>\n",
       "      <td>-117.79</td>\n",
       "      <td>34.12</td>\n",
       "      <td>16.0</td>\n",
       "      <td>2426.0</td>\n",
       "      <td>426.0</td>\n",
       "      <td>1319.0</td>\n",
       "      <td>446.0</td>\n",
       "      <td>4.8125</td>\n",
       "      <td>INLAND</td>\n",
       "    </tr>\n",
       "    <tr>\n",
       "      <th>2</th>\n",
       "      <td>11377</td>\n",
       "      <td>-117.97</td>\n",
       "      <td>33.68</td>\n",
       "      <td>26.0</td>\n",
       "      <td>3653.0</td>\n",
       "      <td>568.0</td>\n",
       "      <td>1930.0</td>\n",
       "      <td>585.0</td>\n",
       "      <td>5.7301</td>\n",
       "      <td>&lt;1H OCEAN</td>\n",
       "    </tr>\n",
       "    <tr>\n",
       "      <th>3</th>\n",
       "      <td>6443</td>\n",
       "      <td>-118.03</td>\n",
       "      <td>34.10</td>\n",
       "      <td>32.0</td>\n",
       "      <td>2668.0</td>\n",
       "      <td>609.0</td>\n",
       "      <td>1512.0</td>\n",
       "      <td>541.0</td>\n",
       "      <td>2.9422</td>\n",
       "      <td>INLAND</td>\n",
       "    </tr>\n",
       "    <tr>\n",
       "      <th>4</th>\n",
       "      <td>17546</td>\n",
       "      <td>-121.87</td>\n",
       "      <td>37.34</td>\n",
       "      <td>39.0</td>\n",
       "      <td>2479.0</td>\n",
       "      <td>541.0</td>\n",
       "      <td>1990.0</td>\n",
       "      <td>506.0</td>\n",
       "      <td>2.4306</td>\n",
       "      <td>&lt;1H OCEAN</td>\n",
       "    </tr>\n",
       "    <tr>\n",
       "      <th>...</th>\n",
       "      <td>...</td>\n",
       "      <td>...</td>\n",
       "      <td>...</td>\n",
       "      <td>...</td>\n",
       "      <td>...</td>\n",
       "      <td>...</td>\n",
       "      <td>...</td>\n",
       "      <td>...</td>\n",
       "      <td>...</td>\n",
       "      <td>...</td>\n",
       "    </tr>\n",
       "    <tr>\n",
       "      <th>9408</th>\n",
       "      <td>20157</td>\n",
       "      <td>-119.15</td>\n",
       "      <td>34.44</td>\n",
       "      <td>33.0</td>\n",
       "      <td>2005.0</td>\n",
       "      <td>392.0</td>\n",
       "      <td>1043.0</td>\n",
       "      <td>351.0</td>\n",
       "      <td>5.3080</td>\n",
       "      <td>&lt;1H OCEAN</td>\n",
       "    </tr>\n",
       "    <tr>\n",
       "      <th>9409</th>\n",
       "      <td>20005</td>\n",
       "      <td>-119.13</td>\n",
       "      <td>36.13</td>\n",
       "      <td>28.0</td>\n",
       "      <td>1673.0</td>\n",
       "      <td>385.0</td>\n",
       "      <td>1434.0</td>\n",
       "      <td>371.0</td>\n",
       "      <td>2.0586</td>\n",
       "      <td>INLAND</td>\n",
       "    </tr>\n",
       "    <tr>\n",
       "      <th>9410</th>\n",
       "      <td>6691</td>\n",
       "      <td>-118.08</td>\n",
       "      <td>34.13</td>\n",
       "      <td>46.0</td>\n",
       "      <td>1238.0</td>\n",
       "      <td>147.0</td>\n",
       "      <td>377.0</td>\n",
       "      <td>145.0</td>\n",
       "      <td>8.4546</td>\n",
       "      <td>INLAND</td>\n",
       "    </tr>\n",
       "    <tr>\n",
       "      <th>9411</th>\n",
       "      <td>3470</td>\n",
       "      <td>-118.46</td>\n",
       "      <td>34.29</td>\n",
       "      <td>24.0</td>\n",
       "      <td>3668.0</td>\n",
       "      <td>890.0</td>\n",
       "      <td>3151.0</td>\n",
       "      <td>810.0</td>\n",
       "      <td>3.0526</td>\n",
       "      <td>&lt;1H OCEAN</td>\n",
       "    </tr>\n",
       "    <tr>\n",
       "      <th>9412</th>\n",
       "      <td>5498</td>\n",
       "      <td>-118.41</td>\n",
       "      <td>34.00</td>\n",
       "      <td>18.0</td>\n",
       "      <td>1307.0</td>\n",
       "      <td>441.0</td>\n",
       "      <td>884.0</td>\n",
       "      <td>456.0</td>\n",
       "      <td>2.9338</td>\n",
       "      <td>&lt;1H OCEAN</td>\n",
       "    </tr>\n",
       "  </tbody>\n",
       "</table>\n",
       "<p>9413 rows × 10 columns</p>\n",
       "</div>"
      ],
      "text/plain": [
       "      index  longitude  latitude  housing_median_age  total_rooms  \\\n",
       "0     19963    -119.14     36.23                22.0       2935.0   \n",
       "1      5929    -117.79     34.12                16.0       2426.0   \n",
       "2     11377    -117.97     33.68                26.0       3653.0   \n",
       "3      6443    -118.03     34.10                32.0       2668.0   \n",
       "4     17546    -121.87     37.34                39.0       2479.0   \n",
       "...     ...        ...       ...                 ...          ...   \n",
       "9408  20157    -119.15     34.44                33.0       2005.0   \n",
       "9409  20005    -119.13     36.13                28.0       1673.0   \n",
       "9410   6691    -118.08     34.13                46.0       1238.0   \n",
       "9411   3470    -118.46     34.29                24.0       3668.0   \n",
       "9412   5498    -118.41     34.00                18.0       1307.0   \n",
       "\n",
       "      total_bedrooms  population  households  median_income ocean_proximity  \n",
       "0              523.0      1927.0       530.0         2.5875          INLAND  \n",
       "1              426.0      1319.0       446.0         4.8125          INLAND  \n",
       "2              568.0      1930.0       585.0         5.7301       <1H OCEAN  \n",
       "3              609.0      1512.0       541.0         2.9422          INLAND  \n",
       "4              541.0      1990.0       506.0         2.4306       <1H OCEAN  \n",
       "...              ...         ...         ...            ...             ...  \n",
       "9408           392.0      1043.0       351.0         5.3080       <1H OCEAN  \n",
       "9409           385.0      1434.0       371.0         2.0586          INLAND  \n",
       "9410           147.0       377.0       145.0         8.4546          INLAND  \n",
       "9411           890.0      3151.0       810.0         3.0526       <1H OCEAN  \n",
       "9412           441.0       884.0       456.0         2.9338       <1H OCEAN  \n",
       "\n",
       "[9413 rows x 10 columns]"
      ]
     },
     "execution_count": 20,
     "metadata": {},
     "output_type": "execute_result"
    }
   ],
   "source": [
    "#dropping and reseting index\n",
    "df_train_mean = df_train_mean.copy()\n",
    "df_train_mean.reset_index(drop=True)"
   ]
  },
  {
   "cell_type": "code",
   "execution_count": 21,
   "id": "048ea7b4",
   "metadata": {},
   "outputs": [],
   "source": [
    "def prepare_X(df):\n",
    "    df = df.copy()\n",
    "    features = base.copy()#if we don't include this part it will append whatever we're doing to the original data\n",
    "    \n",
    "    categorical_columns = ['ocean_proximity']\n",
    "\n",
    "    categories = {}\n",
    "\n",
    "    for c in categorical_columns:\n",
    "        categories[c] = list(df_train_mean[c].value_counts().head().index)\n",
    "    categories\n",
    "\n",
    "    # Get the dummy columns.\n",
    "    dummies = pd.get_dummies(df['ocean_proximity'])\n",
    "\n",
    "    # Add the dummy columns to the dataframe.\n",
    "    df = pd.concat([df, dummies], axis=1)\n",
    "\n",
    "    for c, values in categories.items():\n",
    "        for v in values:\n",
    "            df['%s_%s' % (c, v)] = (df[c] == v).astype('int')\n",
    "            features.append('%s_%s' % (c, v))\n",
    "    \n",
    "    df_nums = df[features]\n",
    "    X = df_nums.values\n",
    "    return X"
   ]
  },
  {
   "cell_type": "code",
   "execution_count": 22,
   "id": "74815243",
   "metadata": {},
   "outputs": [],
   "source": [
    "def train_linear_regression(X, y):\n",
    "    '''\n",
    "    args:\n",
    "          X - m*n matrix\n",
    "          y - m*1 matrix\n",
    "          \n",
    "    return:\n",
    "            weights\n",
    "    '''\n",
    "    ones = np.ones(X.shape[0]) #generate the ones to add in a matrix\n",
    "    X = np.column_stack([ones, X]) #adding the ones in X matrix\n",
    "    \n",
    "    XTX = X.T.dot(X)\n",
    "    XTX_inv = np.linalg.inv(XTX)\n",
    "    w = XTX_inv.dot(X.T).dot(y)\n",
    "    return w[0], w[1:] # returning the intercept/bias wieght and the feature weight(s)\n",
    "    \n",
    "    "
   ]
  },
  {
   "cell_type": "code",
   "execution_count": 23,
   "id": "b8399b77",
   "metadata": {},
   "outputs": [],
   "source": [
    "def rmse(y, y_pred):\n",
    "    error = y_pred - y # A\n",
    "    mse = (error ** 2).mean() # B\n",
    "    return np.sqrt(mse)"
   ]
  },
  {
   "cell_type": "code",
   "execution_count": 24,
   "id": "f7b3159c",
   "metadata": {},
   "outputs": [
    {
     "data": {
      "text/plain": [
       "161.90562887476992"
      ]
     },
     "execution_count": 24,
     "metadata": {},
     "output_type": "execute_result"
    }
   ],
   "source": [
    "#training and getting the weights for the dataframe filled with mean\n",
    "X_train_mean = prepare_X(df_train_mean)\n",
    "w0_mean, w_mean = train_linear_regression(X_train_mean, y_train)\n",
    "\n",
    "\n",
    "#fill in the missing data with the mean\n",
    "df_val_mean = df_val.fillna(df_train['total_bedrooms'].mean())\n",
    "X_val_mean = prepare_X(df_val_mean)\n",
    "\n",
    "#taking the weights obtained in the training set to predict the validation set\n",
    "y_pred_mean = w0_mean + X_val_mean.dot(w_mean)\n",
    "\n",
    "\n",
    "#calculating the mean root square error (rmse)\n",
    "rmse(y_pred_mean, y_val)"
   ]
  },
  {
   "cell_type": "code",
   "execution_count": null,
   "id": "dddafb4d",
   "metadata": {},
   "outputs": [],
   "source": []
  },
  {
   "cell_type": "code",
   "execution_count": 25,
   "id": "da83c5ae",
   "metadata": {},
   "outputs": [
    {
     "data": {
      "text/plain": [
       "65.86"
      ]
     },
     "execution_count": 25,
     "metadata": {},
     "output_type": "execute_result"
    }
   ],
   "source": [
    "#training and getting the weights for the dataframe filled the 0 value\n",
    "X_train_0 = prepare_X(df_train_0)\n",
    "w0_0, w_0 = train_linear_regression(X_train_0, y_train)\n",
    "\n",
    "#fill in the missing data with 0 value\n",
    "df_val_0 = df_val.fillna(0)\n",
    "X_val_0 = prepare_X(df_val_0)\n",
    "\n",
    "#taking the weights obtain in the training set to predict the validation set\n",
    "y_val_pred_0 = w0_0 + X_val_0.dot(w_0)\n",
    "\n",
    "#calculating the mean root square error(rmse)\n",
    "round(rmse(y_val_pred_0, y_val),2)"
   ]
  },
  {
   "cell_type": "code",
   "execution_count": null,
   "id": "1140a641",
   "metadata": {},
   "outputs": [],
   "source": []
  },
  {
   "cell_type": "code",
   "execution_count": null,
   "id": "89a594b4",
   "metadata": {},
   "outputs": [],
   "source": []
  },
  {
   "cell_type": "markdown",
   "id": "5de29e4e",
   "metadata": {},
   "source": [
    "### Training function with regularisation"
   ]
  },
  {
   "cell_type": "code",
   "execution_count": 26,
   "id": "b6beaab7",
   "metadata": {},
   "outputs": [],
   "source": [
    "def train_linear_regression_reg(X, y, r=0.001): #added the r to tune\n",
    "    '''\n",
    "    args:\n",
    "          X - m*n matrix\n",
    "          y - m*1 matrix\n",
    "          \n",
    "    return:\n",
    "            weights\n",
    "    '''\n",
    "    ones = np.ones(X.shape[0]) #generate the ones to add in a matrix\n",
    "    X = np.column_stack([ones, X]) #adding the ones in X matrix\n",
    "    \n",
    "    XTX = X.T.dot(X)\n",
    "    XTX = XTX + r*np.eye(XTX.shape[0])\n",
    "    \n",
    "    XTX_inv = np.linalg.inv(XTX)\n",
    "    w = XTX_inv.dot(X.T).dot(y)\n",
    "    return w[0], w[1:] # returning the intercept/bias wieght and the feature weight(s)\n",
    "    \n",
    "    "
   ]
  },
  {
   "cell_type": "code",
   "execution_count": 27,
   "id": "d9eb7502",
   "metadata": {
    "scrolled": false
   },
   "outputs": [
    {
     "name": "stdout",
     "output_type": "stream",
     "text": [
      "r                   error_term\n",
      "0                 65.8568184477199\n",
      "------------------------------\n",
      "\n",
      "r                   error_term\n",
      "1e-06                 0.3236889325510142\n",
      "------------------------------\n",
      "\n",
      "r                   error_term\n",
      "0.0001                 0.3236893514474012\n",
      "------------------------------\n",
      "\n",
      "r                   error_term\n",
      "0.001                 0.3236893366983165\n",
      "------------------------------\n",
      "\n",
      "r                   error_term\n",
      "0.01                 0.3236892184467618\n",
      "------------------------------\n",
      "\n",
      "r                   error_term\n",
      "0.1                 0.3236893932104778\n",
      "------------------------------\n",
      "\n",
      "r                   error_term\n",
      "1                 0.32370460090704395\n",
      "------------------------------\n",
      "\n",
      "r                   error_term\n",
      "5                 0.32371919201358446\n",
      "------------------------------\n",
      "\n",
      "r                   error_term\n",
      "10                 0.3237220110347088\n",
      "------------------------------\n",
      "\n"
     ]
    }
   ],
   "source": [
    "errors = []\n",
    "\n",
    "for r in [0, 0.000001, 0.0001, 0.001, 0.01, 0.1, 1, 5, 10]:\n",
    "    w0, w = train_linear_regression_reg(X_train_0, y_train, r)\n",
    "    \n",
    "    #prediction to validation set\n",
    "    y_pred_val = w0 + X_val_0.dot(w)\n",
    "    error_term = rmse(y_pred_val, y_val)\n",
    "    \n",
    "    print('r                   error_term')\n",
    "    print(r,'               ', error_term)\n",
    "    errors.append(error_term)\n",
    "    print('------------------------------')\n",
    "    print()\n",
    "    \n",
    "    "
   ]
  },
  {
   "cell_type": "code",
   "execution_count": 28,
   "id": "98682a27",
   "metadata": {},
   "outputs": [
    {
     "data": {
      "text/plain": [
       "0.3236889325510142"
      ]
     },
     "execution_count": 28,
     "metadata": {},
     "output_type": "execute_result"
    }
   ],
   "source": [
    "#getting the smallest error term\n",
    "min(errors)"
   ]
  },
  {
   "cell_type": "code",
   "execution_count": 29,
   "id": "7409c40f",
   "metadata": {},
   "outputs": [],
   "source": [
    "df_filtered_1 = df_filtered.copy()"
   ]
  },
  {
   "cell_type": "markdown",
   "id": "b21fe592",
   "metadata": {},
   "source": [
    "- We used seed 42 for splitting the data. Let's find out how selecting the seed influences our score.\n",
    "- Try different seed values: [0, 1, 2, 3, 4, 5, 6, 7, 8, 9].\n",
    "- For each seed, do the train/validation/test split with 60%/20%/20% distribution.\n",
    "- Fill the missing values with 0 and train a model without regularization.\n",
    "- For each seed, evaluate the model on the validation dataset and collect the RMSE scores.\n",
    "- What's the standard deviation of all the scores? To compute the standard deviation, use np.std.\n",
    "- Round the result to 3 decimal digits (round(std, 3))"
   ]
  },
  {
   "cell_type": "code",
   "execution_count": 37,
   "id": "de9fd013",
   "metadata": {},
   "outputs": [
    {
     "name": "stdout",
     "output_type": "stream",
     "text": [
      "The standard deviation of RMSE scores is: 135.758\n"
     ]
    }
   ],
   "source": [
    "# Fill missing values with 0\n",
    "df_filtered_1 = df_filtered_1.fillna(0)\n",
    "\n",
    "# List of seed values\n",
    "seed_values = [0, 1, 2, 3, 4, 5, 6, 7, 8, 9]\n",
    "\n",
    "# Initialize an empty list to collect RMSE scores\n",
    "rmse_scores = []\n",
    "\n",
    "# Iterate over seed values\n",
    "for seed in seed_values:\n",
    "\n",
    "    # Set the seed and shuffle the data\n",
    "    np.random.seed(seed)\n",
    "    n = len(df_filtered_1)\n",
    "    idx = np.arange(n)\n",
    "    np.random.shuffle(idx)\n",
    "\n",
    "    # Split the data into train, validation, and test sets\n",
    "    n_test = int(n * 0.2)\n",
    "    n_val = int(n * 0.2)\n",
    "    n_train = n - n_test - n_val\n",
    "\n",
    "    df_train = df_filtered_1.iloc[idx[:n_train]]\n",
    "    df_val = df_filtered_1.iloc[idx[n_train:n_train + n_val]]\n",
    "    df_test = df_filtered_1.iloc[idx[n_train + n_val:]]\n",
    "\n",
    "    # Get the target values for each set\n",
    "    y_train = np.log1p(df_train['median_house_value'].values)\n",
    "    y_val = np.log1p(df_val['median_house_value'].values)\n",
    "\n",
    "    # Delete the target variable from the DataFrames\n",
    "    del df_train['median_house_value']\n",
    "    del df_val['median_house_value']\n",
    "    \n",
    "    # Prepare X for train and validation sets\n",
    "    X_train = prepare_X(df_train)\n",
    "    X_val = prepare_X(df_val)\n",
    "\n",
    "    # Train a model without regularization and get weights\n",
    "    w0, w = train_linear_regression(X_train, y_train)\n",
    "\n",
    "    # Predict on validation set\n",
    "    y_pred_val = w0 + X_val.dot(w)\n",
    "\n",
    "    # Calculate RMSE\n",
    "    rmse_1 = rmse(y_pred_val, y_val)\n",
    "    rmse_scores.append(rmse_1)\n",
    "\n",
    "# Calculate standard deviation of RMSE scores\n",
    "std_dev = np.std(rmse_scores)\n",
    "\n",
    "# Round the result to 3 decimal digits\n",
    "std_dev = round(std_dev, 3)\n",
    "\n",
    "print(f\"The standard deviation of RMSE scores is: {std_dev}\")\n"
   ]
  },
  {
   "cell_type": "code",
   "execution_count": 38,
   "id": "1340a79c",
   "metadata": {},
   "outputs": [
    {
     "data": {
      "text/plain": [
       "[77.9129445018594,\n",
       " 18.742780036878855,\n",
       " 102.43367160389404,\n",
       " 310.2673390213195,\n",
       " 161.36518907767098,\n",
       " 33.890110583972785,\n",
       " 452.00142695582537,\n",
       " 47.72391633886153,\n",
       " 8.488355819977194,\n",
       " 106.48661769615474]"
      ]
     },
     "execution_count": 38,
     "metadata": {},
     "output_type": "execute_result"
    }
   ],
   "source": [
    "rmse_scores"
   ]
  },
  {
   "cell_type": "code",
   "execution_count": null,
   "id": "90761613",
   "metadata": {},
   "outputs": [],
   "source": []
  }
 ],
 "metadata": {
  "kernelspec": {
   "display_name": "Python 3 (ipykernel)",
   "language": "python",
   "name": "python3"
  },
  "language_info": {
   "codemirror_mode": {
    "name": "ipython",
    "version": 3
   },
   "file_extension": ".py",
   "mimetype": "text/x-python",
   "name": "python",
   "nbconvert_exporter": "python",
   "pygments_lexer": "ipython3",
   "version": "3.11.4"
  }
 },
 "nbformat": 4,
 "nbformat_minor": 5
}
